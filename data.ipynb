{
 "cells": [
  {
   "cell_type": "code",
   "execution_count": 2,
   "metadata": {},
   "outputs": [
    {
     "name": "stderr",
     "output_type": "stream",
     "text": [
      "/home/lontsi/.local/lib/python3.10/site-packages/tqdm/auto.py:21: TqdmWarning: IProgress not found. Please update jupyter and ipywidgets. See https://ipywidgets.readthedocs.io/en/stable/user_install.html\n",
      "  from .autonotebook import tqdm as notebook_tqdm\n",
      "Downloading readme: 100%|██████████| 7.81k/7.81k [00:00<00:00, 12.8MB/s]\n",
      "Downloading data: 100%|██████████| 21.0M/21.0M [00:29<00:00, 709kB/s]\n",
      "Downloading data: 100%|██████████| 20.5M/20.5M [00:21<00:00, 954kB/s] \n",
      "Downloading data: 100%|██████████| 42.0M/42.0M [01:00<00:00, 693kB/s]\n",
      "Generating train split: 100%|██████████| 25000/25000 [00:00<00:00, 109434.25 examples/s]\n",
      "Generating test split: 100%|██████████| 25000/25000 [00:00<00:00, 114943.30 examples/s]\n",
      "Generating unsupervised split: 100%|██████████| 50000/50000 [00:00<00:00, 110139.45 examples/s]\n"
     ]
    }
   ],
   "source": [
    "from datasets import load_dataset\n",
    "\n",
    "imdb_dataset = load_dataset(\"imdb\")"
   ]
  },
  {
   "cell_type": "code",
   "execution_count": 4,
   "metadata": {},
   "outputs": [],
   "source": [
    "import h5py\n",
    "from datasets import load_dataset\n",
    "\n",
    "# Télécharger le jeu de données\n",
    "imdb_dataset = load_dataset(\"imdb\")\n",
    "\n",
    "# Créer le fichier HDF5 et y écrire les données\n",
    "with h5py.File(\"imdb_movies.hdf5\", \"w\") as f:\n",
    "    f.create_dataset(\"train_text\", data=imdb_dataset[\"train\"][\"text\"])\n",
    "    f.create_dataset(\"train_labels\", data=imdb_dataset[\"train\"][\"label\"])\n",
    "    f.create_dataset(\"test_text\", data=imdb_dataset[\"test\"][\"text\"])\n",
    "    f.create_dataset(\"test_labels\", data=imdb_dataset[\"test\"][\"label\"])"
   ]
  },
  {
   "cell_type": "code",
   "execution_count": 6,
   "metadata": {},
   "outputs": [
    {
     "name": "stdout",
     "output_type": "stream",
     "text": [
      "Datasets dans le fichier HDF5:\n",
      "test_labels\n",
      "test_text\n",
      "train_labels\n",
      "train_text\n",
      "\n",
      "Contenu du dataset 'train_text':\n",
      "[b'I rented I AM CURIOUS-YELLOW from my video store because of all the controversy that surrounded it when it was first released in 1967. I also heard that at first it was seized by U.S. customs if it ever tried to enter this country, therefore being a fan of films considered \"controversial\" I really had to see this for myself.<br /><br />The plot is centered around a young Swedish drama student named Lena who wants to learn everything she can about life. In particular she wants to focus her attentions to making some sort of documentary on what the average Swede thought about certain political issues such as the Vietnam War and race issues in the United States. In between asking politicians and ordinary denizens of Stockholm about their opinions on politics, she has sex with her drama teacher, classmates, and married men.<br /><br />What kills me about I AM CURIOUS-YELLOW is that 40 years ago, this was considered pornographic. Really, the sex and nudity scenes are few and far between, even then it\\'s not shot like some cheaply made porno. While my countrymen mind find it shocking, in reality sex and nudity are a major staple in Swedish cinema. Even Ingmar Bergman, arguably their answer to good old boy John Ford, had sex scenes in his films.<br /><br />I do commend the filmmakers for the fact that any sex shown in the film is shown for artistic purposes rather than just to shock people and make money to be shown in pornographic theaters in America. I AM CURIOUS-YELLOW is a good film for anyone wanting to study the meat and potatoes (no pun intended) of Swedish cinema. But really, this film doesn\\'t have much of a plot.'\n",
      " b'\"I Am Curious: Yellow\" is a risible and pretentious steaming pile. It doesn\\'t matter what one\\'s political views are because this film can hardly be taken seriously on any level. As for the claim that frontal male nudity is an automatic NC-17, that isn\\'t true. I\\'ve seen R-rated films with male nudity. Granted, they only offer some fleeting views, but where are the R-rated films with gaping vulvas and flapping labia? Nowhere, because they don\\'t exist. The same goes for those crappy cable shows: schlongs swinging in the breeze but not a clitoris in sight. And those pretentious indie movies like The Brown Bunny, in which we\\'re treated to the site of Vincent Gallo\\'s throbbing johnson, but not a trace of pink visible on Chloe Sevigny. Before crying (or implying) \"double-standard\" in matters of nudity, the mentally obtuse should take into account one unavoidably obvious anatomical difference between men and women: there are no genitals on display when actresses appears nude, and the same cannot be said for a man. In fact, you generally won\\'t see female genitals in an American film in anything short of porn or explicit erotica. This alleged double-standard is less a double standard than an admittedly depressing ability to come to terms culturally with the insides of women\\'s bodies.'\n",
      " b\"If only to avoid making this type of film in the future. This film is interesting as an experiment but tells no cogent story.<br /><br />One might feel virtuous for sitting thru it because it touches on so many IMPORTANT issues but it does so without any discernable motive. The viewer comes away with no new perspectives (unless one comes up with one while one's mind wanders, as it will invariably do during this pointless film).<br /><br />One might better spend one's time staring out a window at a tree growing.<br /><br />\"\n",
      " b\"This film was probably inspired by Godard's Masculin, f\\xc3\\xa9minin and I urge you to see that film instead.<br /><br />The film has two strong elements and those are, (1) the realistic acting (2) the impressive, undeservedly good, photo. Apart from that, what strikes me most is the endless stream of silliness. Lena Nyman has to be most annoying actress in the world. She acts so stupid and with all the nudity in this film,...it's unattractive. Comparing to Godard's film, intellectuality has been replaced with stupidity. Without going too far on this subject, I would say that follows from the difference in ideals between the French and the Swedish society.<br /><br />A movie of its time, and place. 2/10.\"\n",
      " b'Oh, brother...after hearing about this ridiculous film for umpteen years all I can think of is that old Peggy Lee song..<br /><br />\"Is that all there is??\" ...I was just an early teen when this smoked fish hit the U.S. I was too young to get in the theater (although I did manage to sneak into \"Goodbye Columbus\"). Then a screening at a local film museum beckoned - Finally I could see this film, except now I was as old as my parents were when they schlepped to see it!!<br /><br />The ONLY reason this film was not condemned to the anonymous sands of time was because of the obscenity case sparked by its U.S. release. MILLIONS of people flocked to this stinker, thinking they were going to see a sex film...Instead, they got lots of closeups of gnarly, repulsive Swedes, on-street interviews in bland shopping malls, asinie political pretension...and feeble who-cares simulated sex scenes with saggy, pale actors.<br /><br />Cultural icon, holy grail, historic artifact..whatever this thing was, shred it, burn it, then stuff the ashes in a lead box!<br /><br />Elite esthetes still scrape to find value in its boring pseudo revolutionary political spewings..But if it weren\\'t for the censorship scandal, it would have been ignored, then forgotten.<br /><br />Instead, the \"I Am Blank, Blank\" rhythymed title was repeated endlessly for years as a titilation for porno films (I am Curious, Lavender - for gay films, I Am Curious, Black - for blaxploitation films, etc..) and every ten years or so the thing rises from the dead, to be viewed by a new generation of suckers who want to see that \"naughty sex film\" that \"revolutionized the film industry\"...<br /><br />Yeesh, avoid like the plague..Or if you MUST see it - rent the video and fast forward to the \"dirty\" parts, just to get it over with.<br /><br />']\n",
      "\n",
      "Contenu du dataset 'train_labels':\n",
      "[0 0 0 0 0]\n"
     ]
    }
   ],
   "source": [
    "import h5py\n",
    "\n",
    "# Ouvrir le fichier HDF5\n",
    "with h5py.File(\"imdb_movies.hdf5\", \"r\") as f:\n",
    "    # Afficher les noms des datasets\n",
    "    print(\"Datasets dans le fichier HDF5:\")\n",
    "    for dataset_name in f.keys():\n",
    "        print(dataset_name)\n",
    "\n",
    "    # Afficher les données d'un dataset\n",
    "    print(\"\\nContenu du dataset 'train_text':\")\n",
    "    train_text = f[\"train_text\"][:]\n",
    "    print(train_text[:5])  # Afficher les 5 premières lignes\n",
    "\n",
    "    print(\"\\nContenu du dataset 'train_labels':\")\n",
    "    train_labels = f[\"train_labels\"][:]\n",
    "    print(train_labels[:5])  # Afficher les 5 premières étiquettes"
   ]
  },
  {
   "cell_type": "code",
   "execution_count": 8,
   "metadata": {},
   "outputs": [
    {
     "name": "stdout",
     "output_type": "stream",
     "text": [
      "Labels uniques dans le jeu de données :\n",
      "[0 1]\n"
     ]
    }
   ],
   "source": [
    "import h5py\n",
    "import numpy as np\n",
    "\n",
    "# Ouvrir le fichier HDF5\n",
    "with h5py.File(\"imdb_movies.hdf5\", \"r\") as f:\n",
    "    # Récupérer les labels de formation\n",
    "    train_labels = f[\"train_labels\"][:]\n",
    "    \n",
    "    # Récupérer les labels de test\n",
    "    test_labels = f[\"test_labels\"][:]\n",
    "    \n",
    "    # Afficher les labels uniques\n",
    "    print(\"Labels uniques dans le jeu de données :\")\n",
    "    print(np.unique(np.concatenate((train_labels, test_labels))))"
   ]
  }
 ],
 "metadata": {
  "kernelspec": {
   "display_name": "Python 3",
   "language": "python",
   "name": "python3"
  },
  "language_info": {
   "codemirror_mode": {
    "name": "ipython",
    "version": 3
   },
   "file_extension": ".py",
   "mimetype": "text/x-python",
   "name": "python",
   "nbconvert_exporter": "python",
   "pygments_lexer": "ipython3",
   "version": "3.10.12"
  }
 },
 "nbformat": 4,
 "nbformat_minor": 2
}
